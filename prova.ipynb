{
 "cells": [
  {
   "cell_type": "code",
   "execution_count": 1,
   "source": [
    "pip install opendatasets"
   ],
   "outputs": [
    {
     "output_type": "stream",
     "name": "stdout",
     "text": [
      "Collecting opendatasets\n",
      "  Downloading opendatasets-0.1.20-py3-none-any.whl (14 kB)\n",
      "Requirement already satisfied: tqdm in /home/andrea/anaconda3/lib/python3.8/site-packages (from opendatasets) (4.62.3)\n",
      "Collecting kaggle\n",
      "  Downloading kaggle-1.5.12.tar.gz (58 kB)\n",
      "\u001b[K     |████████████████████████████████| 58 kB 403 kB/s \n",
      "\u001b[?25hRequirement already satisfied: click in /home/andrea/anaconda3/lib/python3.8/site-packages (from opendatasets) (8.0.2)\n",
      "Requirement already satisfied: six>=1.10 in /home/andrea/anaconda3/lib/python3.8/site-packages (from kaggle->opendatasets) (1.16.0)\n",
      "Requirement already satisfied: certifi in /home/andrea/anaconda3/lib/python3.8/site-packages (from kaggle->opendatasets) (2021.10.8)\n",
      "Requirement already satisfied: python-dateutil in /home/andrea/anaconda3/lib/python3.8/site-packages (from kaggle->opendatasets) (2.8.2)\n",
      "Requirement already satisfied: requests in /home/andrea/anaconda3/lib/python3.8/site-packages (from kaggle->opendatasets) (2.26.0)\n",
      "Requirement already satisfied: python-slugify in /home/andrea/anaconda3/lib/python3.8/site-packages (from kaggle->opendatasets) (5.0.2)\n",
      "Requirement already satisfied: urllib3 in /home/andrea/anaconda3/lib/python3.8/site-packages (from kaggle->opendatasets) (1.26.7)\n",
      "Requirement already satisfied: text-unidecode>=1.3 in /home/andrea/anaconda3/lib/python3.8/site-packages (from python-slugify->kaggle->opendatasets) (1.3)\n",
      "Requirement already satisfied: idna<4,>=2.5 in /home/andrea/anaconda3/lib/python3.8/site-packages (from requests->kaggle->opendatasets) (3.2)\n",
      "Requirement already satisfied: charset-normalizer~=2.0.0 in /home/andrea/anaconda3/lib/python3.8/site-packages (from requests->kaggle->opendatasets) (2.0.6)\n",
      "Building wheels for collected packages: kaggle\n",
      "  Building wheel for kaggle (setup.py) ... \u001b[?25ldone\n",
      "\u001b[?25h  Created wheel for kaggle: filename=kaggle-1.5.12-py3-none-any.whl size=73051 sha256=52794d817f2678a83a8b6e72e6a3bb2615a793a1ab5eaddf138da006c049c7d1\n",
      "  Stored in directory: /home/andrea/.cache/pip/wheels/29/da/11/144cc25aebdaeb4931b231e25fd34b394e6a5725cbb2f50106\n",
      "Successfully built kaggle\n",
      "Installing collected packages: kaggle, opendatasets\n",
      "Successfully installed kaggle-1.5.12 opendatasets-0.1.20\n",
      "Note: you may need to restart the kernel to use updated packages.\n"
     ]
    }
   ],
   "metadata": {}
  },
  {
   "cell_type": "code",
   "execution_count": 1,
   "source": [
    "import opendatasets as od\n",
    "\n",
    "od.download(\"https://www.kaggle.com/najzeko/steam-reviews-2021\")\n",
    "\n",
    "\n",
    "# import pandas as pd\n",
    "# for chunk in pd.read_csv(\"./steam-reviews-2021/steam_reviews.csv\", chunksize=10000):\n",
    "#     print(chunk.columns)"
   ],
   "outputs": [
    {
     "output_type": "stream",
     "name": "stdout",
     "text": [
      "Please provide your Kaggle credentials to download this dataset. Learn more: http://bit.ly/kaggle-creds\n",
      "Your Kaggle username:Your Kaggle Key:Downloading steam-reviews-2021.zip to ./steam-reviews-2021\n"
     ]
    },
    {
     "output_type": "stream",
     "name": "stderr",
     "text": [
      "100%|██████████| 2.97G/2.97G [38:08<00:00, 1.40MB/s]\n"
     ]
    },
    {
     "output_type": "stream",
     "name": "stdout",
     "text": [
      "\n"
     ]
    },
    {
     "output_type": "error",
     "ename": "FileNotFoundError",
     "evalue": "[Errno 2] No such file or directory: 'Scaricati'",
     "traceback": [
      "\u001b[0;31m---------------------------------------------------------------------------\u001b[0m",
      "\u001b[0;31mFileNotFoundError\u001b[0m                         Traceback (most recent call last)",
      "\u001b[0;32m/tmp/ipykernel_8354/3255442034.py\u001b[0m in \u001b[0;36m<module>\u001b[0;34m\u001b[0m\n\u001b[1;32m      5\u001b[0m \u001b[0;32mfrom\u001b[0m \u001b[0mos\u001b[0m \u001b[0;32mimport\u001b[0m \u001b[0mlistdir\u001b[0m\u001b[0;34m\u001b[0m\u001b[0;34m\u001b[0m\u001b[0m\n\u001b[1;32m      6\u001b[0m \u001b[0;34m\u001b[0m\u001b[0m\n\u001b[0;32m----> 7\u001b[0;31m \u001b[0mprint\u001b[0m\u001b[0;34m(\u001b[0m\u001b[0mlistdir\u001b[0m\u001b[0;34m(\u001b[0m\u001b[0;34m\"Scaricati\"\u001b[0m\u001b[0;34m)\u001b[0m\u001b[0;34m)\u001b[0m\u001b[0;34m\u001b[0m\u001b[0;34m\u001b[0m\u001b[0m\n\u001b[0m\u001b[1;32m      8\u001b[0m \u001b[0;34m\u001b[0m\u001b[0m\n\u001b[1;32m      9\u001b[0m \u001b[0;31m# import pandas as pd\u001b[0m\u001b[0;34m\u001b[0m\u001b[0;34m\u001b[0m\u001b[0;34m\u001b[0m\u001b[0m\n",
      "\u001b[0;31mFileNotFoundError\u001b[0m: [Errno 2] No such file or directory: 'Scaricati'"
     ]
    }
   ],
   "metadata": {}
  },
  {
   "cell_type": "code",
   "execution_count": 2,
   "source": [
    "import pandas as pd\n",
    "for chunk in pd.read_csv(\"../steam-reviews-2021/steam_reviews.csv\", chunksize=100):\n",
    "    print(chunk.columns)\n",
    "    cdc = chunk.columns\n",
    "    break\n",
    "\n",
    "dfe1 = pd.read_csv(\"~/Scaricati/steam_reviews_bonus_1\", chunksize=100)\n",
    "for chunk in dfe1:\n",
    "    print(chunk.columns)\n",
    "    cde1 = chunk.columns\n",
    "    break\n",
    "print(cdc == cde1.drop('Unnamed: 0.1'))\n",
    "\n",
    "dfe2 = pd.read_csv(\"~/Scaricati/steam_reviews_bonus_2\", chunksize=100)\n",
    "for chunk in dfe2:\n",
    "    print(chunk.columns)\n",
    "    cde2 = chunk.columns\n",
    "    break\n",
    "print(cdc == cde2.drop('Unnamed: 0.1'))"
   ],
   "outputs": [
    {
     "output_type": "stream",
     "name": "stdout",
     "text": [
      "Index(['Unnamed: 0', 'app_id', 'app_name', 'review_id', 'language', 'review',\n",
      "       'timestamp_created', 'timestamp_updated', 'recommended',\n",
      "       'votes_helpful', 'votes_funny', 'weighted_vote_score', 'comment_count',\n",
      "       'steam_purchase', 'received_for_free', 'written_during_early_access',\n",
      "       'author.steamid', 'author.num_games_owned', 'author.num_reviews',\n",
      "       'author.playtime_forever', 'author.playtime_last_two_weeks',\n",
      "       'author.playtime_at_review', 'author.last_played'],\n",
      "      dtype='object')\n",
      "Index(['Unnamed: 0', 'Unnamed: 0.1', 'app_id', 'app_name', 'review_id',\n",
      "       'language', 'review', 'timestamp_created', 'timestamp_updated',\n",
      "       'recommended', 'votes_helpful', 'votes_funny', 'weighted_vote_score',\n",
      "       'comment_count', 'steam_purchase', 'received_for_free',\n",
      "       'written_during_early_access', 'author.steamid',\n",
      "       'author.num_games_owned', 'author.num_reviews',\n",
      "       'author.playtime_forever', 'author.playtime_last_two_weeks',\n",
      "       'author.playtime_at_review', 'author.last_played'],\n",
      "      dtype='object')\n",
      "[ True  True  True  True  True  True  True  True  True  True  True  True\n",
      "  True  True  True  True  True  True  True  True  True  True  True]\n",
      "Index(['Unnamed: 0', 'Unnamed: 0.1', 'app_id', 'app_name', 'review_id',\n",
      "       'language', 'review', 'timestamp_created', 'timestamp_updated',\n",
      "       'recommended', 'votes_helpful', 'votes_funny', 'weighted_vote_score',\n",
      "       'comment_count', 'steam_purchase', 'received_for_free',\n",
      "       'written_during_early_access', 'author.steamid',\n",
      "       'author.num_games_owned', 'author.num_reviews',\n",
      "       'author.playtime_forever', 'author.playtime_last_two_weeks',\n",
      "       'author.playtime_at_review', 'author.last_played'],\n",
      "      dtype='object')\n",
      "[ True  True  True  True  True  True  True  True  True  True  True  True\n",
      "  True  True  True  True  True  True  True  True  True  True  True]\n"
     ]
    }
   ],
   "metadata": {}
  }
 ],
 "metadata": {
  "orig_nbformat": 4,
  "language_info": {
   "name": "python",
   "version": "3.8.12",
   "mimetype": "text/x-python",
   "codemirror_mode": {
    "name": "ipython",
    "version": 3
   },
   "pygments_lexer": "ipython3",
   "nbconvert_exporter": "python",
   "file_extension": ".py"
  },
  "kernelspec": {
   "name": "python3",
   "display_name": "Python 3.8.12 64-bit ('base': conda)"
  },
  "interpreter": {
   "hash": "f14e906f6c55070a077a89cc5717e48c6e6b165b8f84516754651fa338ccc864"
  }
 },
 "nbformat": 4,
 "nbformat_minor": 2
}