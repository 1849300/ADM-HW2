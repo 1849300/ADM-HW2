{
 "cells": [
  {
   "cell_type": "code",
   "execution_count": 6,
   "source": [
    "def swapList(a, l, n):\n",
    "    n2 = int(n/2)\n",
    "    print(a, l, n)\n",
    "    for i in range(n2):\n",
    "        tmp = a[l + i]\n",
    "        a[l + i] = a[l + n2 + i]\n",
    "        a[l + n2 + i] = tmp\n",
    "\n",
    "# O(log n) * O(log n) * O(n) = O(n * log^2 n)\n",
    "\n",
    "def splitSwap(a, l, n):\n",
    "    if n <= 1:\n",
    "        return\n",
    "    n2 = int(n/2)\n",
    "    splitSwap(a, l, n2)\n",
    "    splitSwap(a, l+ n2, n2)\n",
    "    swapList(a, l, n)\n",
    "\n",
    "a = [100, 95, 1, 3, 6, 45, 9, 360, 8, 1, 0, 0, 5, 7, 9, 10]\n",
    "splitSwap(a, 0, len(a))"
   ],
   "outputs": [
    {
     "output_type": "stream",
     "name": "stdout",
     "text": [
      "[100, 95, 1, 3, 6, 45, 9, 360, 8, 1, 0, 0, 5, 7, 9, 10] 0 2\n",
      "[95, 100, 1, 3, 6, 45, 9, 360, 8, 1, 0, 0, 5, 7, 9, 10] 2 2\n",
      "[95, 100, 3, 1, 6, 45, 9, 360, 8, 1, 0, 0, 5, 7, 9, 10] 0 4\n",
      "[3, 1, 95, 100, 6, 45, 9, 360, 8, 1, 0, 0, 5, 7, 9, 10] 4 2\n",
      "[3, 1, 95, 100, 45, 6, 9, 360, 8, 1, 0, 0, 5, 7, 9, 10] 6 2\n",
      "[3, 1, 95, 100, 45, 6, 360, 9, 8, 1, 0, 0, 5, 7, 9, 10] 4 4\n",
      "[3, 1, 95, 100, 360, 9, 45, 6, 8, 1, 0, 0, 5, 7, 9, 10] 0 8\n",
      "[360, 9, 45, 6, 3, 1, 95, 100, 8, 1, 0, 0, 5, 7, 9, 10] 8 2\n",
      "[360, 9, 45, 6, 3, 1, 95, 100, 1, 8, 0, 0, 5, 7, 9, 10] 10 2\n",
      "[360, 9, 45, 6, 3, 1, 95, 100, 1, 8, 0, 0, 5, 7, 9, 10] 8 4\n",
      "[360, 9, 45, 6, 3, 1, 95, 100, 0, 0, 1, 8, 5, 7, 9, 10] 12 2\n",
      "[360, 9, 45, 6, 3, 1, 95, 100, 0, 0, 1, 8, 7, 5, 9, 10] 14 2\n",
      "[360, 9, 45, 6, 3, 1, 95, 100, 0, 0, 1, 8, 7, 5, 10, 9] 12 4\n",
      "[360, 9, 45, 6, 3, 1, 95, 100, 0, 0, 1, 8, 10, 9, 7, 5] 8 8\n",
      "[360, 9, 45, 6, 3, 1, 95, 100, 10, 9, 7, 5, 0, 0, 1, 8] 0 16\n"
     ]
    }
   ],
   "metadata": {}
  },
  {
   "cell_type": "markdown",
   "source": [
    "## TQ1\n",
    "- It computes the k-th element in ascending order present in the set<br>\n",
    "- T(n-1) + T(n-2) + T(n-3) + ... + T(1) = (n - 1) * O(n) => O(n^2) if we don't consider the \"loop case\"\n",
    "- Omega(n)"
   ],
   "metadata": {}
  },
  {
   "cell_type": "markdown",
   "source": [
    "## TQ3\n",
    "<h3>1</h3>\n",
    "w = [3, 5, 8, 15]<br>\n",
    "v = [1, 5, 3, 15]<br>\n",
    "W = 18<br>\n",
    "Starting from vtot = 0.<br>\n",
    "When we add w0 our vtot is 1, adding the second object we sum 5 to tot so we have vtot = 6, then vtot = 9 and then we stop because total weight is 16, if we add the last object we exceed W. But insert first w[3] (starting from 0) object and then w[0] we obtain a vtot of 16 that is greater than 9<br>\n",
    "<h3>2</h3>\n",
    "w = [2, 16, 1, 1]<br>\n",
    "v = [6, 5, 4, 3]<br>\n",
    "W = 18<br>\n",
    "Starting from vtot = 0.<br>\n",
    "We add object 0 and then object one, vtot = 11 and weight is 18 (it correspond to the maximum budget), but if we don't take the first object we can maximize the total value taking the last tree objects and we can obtain total weight of 18 and vtot of 12 (5+4+3) that is greater than 11<br>\n",
    "<h3>3</h3>\n",
    "Considering again the first couple of vectors, when we sort them we obtain:<br>\n",
    "w = [3, 8, 5, 15]<br>\n",
    "v = [1, 3, 5, 15]<br>\n",
    "W = 18<br>\n",
    "Now, we select the first tree objects and then we stop because we cannot select another object without exceed W=18, so vtot=9 but selecting the last object we can obtain a bigger vtot, so this is also not the optimal solution."
   ],
   "metadata": {}
  }
 ],
 "metadata": {
  "orig_nbformat": 4,
  "language_info": {
   "name": "python",
   "version": "3.8.12",
   "mimetype": "text/x-python",
   "codemirror_mode": {
    "name": "ipython",
    "version": 3
   },
   "pygments_lexer": "ipython3",
   "nbconvert_exporter": "python",
   "file_extension": ".py"
  },
  "kernelspec": {
   "name": "python3",
   "display_name": "Python 3.8.12 64-bit ('base': conda)"
  },
  "interpreter": {
   "hash": "f14e906f6c55070a077a89cc5717e48c6e6b165b8f84516754651fa338ccc864"
  }
 },
 "nbformat": 4,
 "nbformat_minor": 2
}